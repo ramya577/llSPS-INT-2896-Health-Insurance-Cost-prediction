{
 "cells": [
  {
   "cell_type": "markdown",
   "metadata": {},
   "source": [
    "Importing Libraries"
   ]
  },
  {
   "cell_type": "code",
   "execution_count": 1,
   "metadata": {},
   "outputs": [],
   "source": [
    "import numpy as np\n",
    "import pandas as pd\n",
    "import matplotlib.pyplot as plt\n",
    "%matplotlib inline"
   ]
  },
  {
   "cell_type": "markdown",
   "metadata": {},
   "source": [
    "# Part 1 - Data Preprocessing"
   ]
  },
  {
   "cell_type": "markdown",
   "metadata": {},
   "source": [
    "Reading the datset"
   ]
  },
  {
   "cell_type": "code",
   "execution_count": 2,
   "metadata": {},
   "outputs": [
    {
     "data": {
      "text/html": [
       "<div>\n",
       "<style scoped>\n",
       "    .dataframe tbody tr th:only-of-type {\n",
       "        vertical-align: middle;\n",
       "    }\n",
       "\n",
       "    .dataframe tbody tr th {\n",
       "        vertical-align: top;\n",
       "    }\n",
       "\n",
       "    .dataframe thead th {\n",
       "        text-align: right;\n",
       "    }\n",
       "</style>\n",
       "<table border=\"1\" class=\"dataframe\">\n",
       "  <thead>\n",
       "    <tr style=\"text-align: right;\">\n",
       "      <th></th>\n",
       "      <th>age</th>\n",
       "      <th>sex</th>\n",
       "      <th>bmi</th>\n",
       "      <th>children</th>\n",
       "      <th>smoker</th>\n",
       "      <th>region</th>\n",
       "      <th>charges</th>\n",
       "    </tr>\n",
       "  </thead>\n",
       "  <tbody>\n",
       "    <tr>\n",
       "      <th>0</th>\n",
       "      <td>19</td>\n",
       "      <td>female</td>\n",
       "      <td>27.900</td>\n",
       "      <td>0</td>\n",
       "      <td>yes</td>\n",
       "      <td>southwest</td>\n",
       "      <td>16884.92400</td>\n",
       "    </tr>\n",
       "    <tr>\n",
       "      <th>1</th>\n",
       "      <td>18</td>\n",
       "      <td>male</td>\n",
       "      <td>33.770</td>\n",
       "      <td>1</td>\n",
       "      <td>no</td>\n",
       "      <td>southeast</td>\n",
       "      <td>1725.55230</td>\n",
       "    </tr>\n",
       "    <tr>\n",
       "      <th>2</th>\n",
       "      <td>28</td>\n",
       "      <td>male</td>\n",
       "      <td>33.000</td>\n",
       "      <td>3</td>\n",
       "      <td>no</td>\n",
       "      <td>southeast</td>\n",
       "      <td>4449.46200</td>\n",
       "    </tr>\n",
       "    <tr>\n",
       "      <th>3</th>\n",
       "      <td>33</td>\n",
       "      <td>male</td>\n",
       "      <td>22.705</td>\n",
       "      <td>0</td>\n",
       "      <td>no</td>\n",
       "      <td>northwest</td>\n",
       "      <td>21984.47061</td>\n",
       "    </tr>\n",
       "    <tr>\n",
       "      <th>4</th>\n",
       "      <td>32</td>\n",
       "      <td>male</td>\n",
       "      <td>28.880</td>\n",
       "      <td>0</td>\n",
       "      <td>no</td>\n",
       "      <td>northwest</td>\n",
       "      <td>3866.85520</td>\n",
       "    </tr>\n",
       "    <tr>\n",
       "      <th>...</th>\n",
       "      <td>...</td>\n",
       "      <td>...</td>\n",
       "      <td>...</td>\n",
       "      <td>...</td>\n",
       "      <td>...</td>\n",
       "      <td>...</td>\n",
       "      <td>...</td>\n",
       "    </tr>\n",
       "    <tr>\n",
       "      <th>1333</th>\n",
       "      <td>50</td>\n",
       "      <td>male</td>\n",
       "      <td>30.970</td>\n",
       "      <td>3</td>\n",
       "      <td>no</td>\n",
       "      <td>northwest</td>\n",
       "      <td>10600.54830</td>\n",
       "    </tr>\n",
       "    <tr>\n",
       "      <th>1334</th>\n",
       "      <td>18</td>\n",
       "      <td>female</td>\n",
       "      <td>31.920</td>\n",
       "      <td>0</td>\n",
       "      <td>no</td>\n",
       "      <td>northeast</td>\n",
       "      <td>2205.98080</td>\n",
       "    </tr>\n",
       "    <tr>\n",
       "      <th>1335</th>\n",
       "      <td>18</td>\n",
       "      <td>female</td>\n",
       "      <td>36.850</td>\n",
       "      <td>0</td>\n",
       "      <td>no</td>\n",
       "      <td>southeast</td>\n",
       "      <td>1629.83350</td>\n",
       "    </tr>\n",
       "    <tr>\n",
       "      <th>1336</th>\n",
       "      <td>21</td>\n",
       "      <td>female</td>\n",
       "      <td>25.800</td>\n",
       "      <td>0</td>\n",
       "      <td>no</td>\n",
       "      <td>southwest</td>\n",
       "      <td>2007.94500</td>\n",
       "    </tr>\n",
       "    <tr>\n",
       "      <th>1337</th>\n",
       "      <td>61</td>\n",
       "      <td>female</td>\n",
       "      <td>29.070</td>\n",
       "      <td>0</td>\n",
       "      <td>yes</td>\n",
       "      <td>northwest</td>\n",
       "      <td>29141.36030</td>\n",
       "    </tr>\n",
       "  </tbody>\n",
       "</table>\n",
       "<p>1338 rows × 7 columns</p>\n",
       "</div>"
      ],
      "text/plain": [
       "      age     sex     bmi  children smoker     region      charges\n",
       "0      19  female  27.900         0    yes  southwest  16884.92400\n",
       "1      18    male  33.770         1     no  southeast   1725.55230\n",
       "2      28    male  33.000         3     no  southeast   4449.46200\n",
       "3      33    male  22.705         0     no  northwest  21984.47061\n",
       "4      32    male  28.880         0     no  northwest   3866.85520\n",
       "...   ...     ...     ...       ...    ...        ...          ...\n",
       "1333   50    male  30.970         3     no  northwest  10600.54830\n",
       "1334   18  female  31.920         0     no  northeast   2205.98080\n",
       "1335   18  female  36.850         0     no  southeast   1629.83350\n",
       "1336   21  female  25.800         0     no  southwest   2007.94500\n",
       "1337   61  female  29.070         0    yes  northwest  29141.36030\n",
       "\n",
       "[1338 rows x 7 columns]"
      ]
     },
     "execution_count": 2,
     "metadata": {},
     "output_type": "execute_result"
    }
   ],
   "source": [
    "dataset = pd.read_csv(\"insurance.csv\")\n",
    "dataset"
   ]
  },
  {
   "cell_type": "markdown",
   "metadata": {},
   "source": [
    "Checking the type of dataset"
   ]
  },
  {
   "cell_type": "code",
   "execution_count": 3,
   "metadata": {},
   "outputs": [
    {
     "data": {
      "text/plain": [
       "pandas.core.frame.DataFrame"
      ]
     },
     "execution_count": 3,
     "metadata": {},
     "output_type": "execute_result"
    }
   ],
   "source": [
    "type(dataset)"
   ]
  },
  {
   "cell_type": "markdown",
   "metadata": {},
   "source": [
    "Seeing the datatype of each column"
   ]
  },
  {
   "cell_type": "code",
   "execution_count": 4,
   "metadata": {},
   "outputs": [
    {
     "name": "stdout",
     "output_type": "stream",
     "text": [
      "<class 'pandas.core.frame.DataFrame'>\n",
      "RangeIndex: 1338 entries, 0 to 1337\n",
      "Data columns (total 7 columns):\n",
      " #   Column    Non-Null Count  Dtype  \n",
      "---  ------    --------------  -----  \n",
      " 0   age       1338 non-null   int64  \n",
      " 1   sex       1338 non-null   object \n",
      " 2   bmi       1338 non-null   float64\n",
      " 3   children  1338 non-null   int64  \n",
      " 4   smoker    1338 non-null   object \n",
      " 5   region    1338 non-null   object \n",
      " 6   charges   1338 non-null   float64\n",
      "dtypes: float64(2), int64(2), object(3)\n",
      "memory usage: 73.3+ KB\n"
     ]
    }
   ],
   "source": [
    "dataset.info()"
   ]
  },
  {
   "cell_type": "markdown",
   "metadata": {},
   "source": [
    "Statistical summary"
   ]
  },
  {
   "cell_type": "code",
   "execution_count": 5,
   "metadata": {},
   "outputs": [
    {
     "data": {
      "text/html": [
       "<div>\n",
       "<style scoped>\n",
       "    .dataframe tbody tr th:only-of-type {\n",
       "        vertical-align: middle;\n",
       "    }\n",
       "\n",
       "    .dataframe tbody tr th {\n",
       "        vertical-align: top;\n",
       "    }\n",
       "\n",
       "    .dataframe thead th {\n",
       "        text-align: right;\n",
       "    }\n",
       "</style>\n",
       "<table border=\"1\" class=\"dataframe\">\n",
       "  <thead>\n",
       "    <tr style=\"text-align: right;\">\n",
       "      <th></th>\n",
       "      <th>age</th>\n",
       "      <th>bmi</th>\n",
       "      <th>children</th>\n",
       "      <th>charges</th>\n",
       "    </tr>\n",
       "  </thead>\n",
       "  <tbody>\n",
       "    <tr>\n",
       "      <th>count</th>\n",
       "      <td>1338.000000</td>\n",
       "      <td>1338.000000</td>\n",
       "      <td>1338.000000</td>\n",
       "      <td>1338.000000</td>\n",
       "    </tr>\n",
       "    <tr>\n",
       "      <th>mean</th>\n",
       "      <td>39.207025</td>\n",
       "      <td>30.663397</td>\n",
       "      <td>1.094918</td>\n",
       "      <td>13270.422265</td>\n",
       "    </tr>\n",
       "    <tr>\n",
       "      <th>std</th>\n",
       "      <td>14.049960</td>\n",
       "      <td>6.098187</td>\n",
       "      <td>1.205493</td>\n",
       "      <td>12110.011237</td>\n",
       "    </tr>\n",
       "    <tr>\n",
       "      <th>min</th>\n",
       "      <td>18.000000</td>\n",
       "      <td>15.960000</td>\n",
       "      <td>0.000000</td>\n",
       "      <td>1121.873900</td>\n",
       "    </tr>\n",
       "    <tr>\n",
       "      <th>25%</th>\n",
       "      <td>27.000000</td>\n",
       "      <td>26.296250</td>\n",
       "      <td>0.000000</td>\n",
       "      <td>4740.287150</td>\n",
       "    </tr>\n",
       "    <tr>\n",
       "      <th>50%</th>\n",
       "      <td>39.000000</td>\n",
       "      <td>30.400000</td>\n",
       "      <td>1.000000</td>\n",
       "      <td>9382.033000</td>\n",
       "    </tr>\n",
       "    <tr>\n",
       "      <th>75%</th>\n",
       "      <td>51.000000</td>\n",
       "      <td>34.693750</td>\n",
       "      <td>2.000000</td>\n",
       "      <td>16639.912515</td>\n",
       "    </tr>\n",
       "    <tr>\n",
       "      <th>max</th>\n",
       "      <td>64.000000</td>\n",
       "      <td>53.130000</td>\n",
       "      <td>5.000000</td>\n",
       "      <td>63770.428010</td>\n",
       "    </tr>\n",
       "  </tbody>\n",
       "</table>\n",
       "</div>"
      ],
      "text/plain": [
       "               age          bmi     children       charges\n",
       "count  1338.000000  1338.000000  1338.000000   1338.000000\n",
       "mean     39.207025    30.663397     1.094918  13270.422265\n",
       "std      14.049960     6.098187     1.205493  12110.011237\n",
       "min      18.000000    15.960000     0.000000   1121.873900\n",
       "25%      27.000000    26.296250     0.000000   4740.287150\n",
       "50%      39.000000    30.400000     1.000000   9382.033000\n",
       "75%      51.000000    34.693750     2.000000  16639.912515\n",
       "max      64.000000    53.130000     5.000000  63770.428010"
      ]
     },
     "execution_count": 5,
     "metadata": {},
     "output_type": "execute_result"
    }
   ],
   "source": [
    "dataset.describe()"
   ]
  },
  {
   "cell_type": "markdown",
   "metadata": {},
   "source": [
    "Data Visualization"
   ]
  },
  {
   "cell_type": "code",
   "execution_count": 6,
   "metadata": {},
   "outputs": [
    {
     "data": {
      "image/png": "[encoded data removed]",
      "text/plain": [
       "<Figure size 2520x2520 with 8 Axes>"
      ]
     },
     "metadata": {
      "needs_background": "light"
     },
     "output_type": "display_data"
    }
   ],
   "source": [
    "fig, ax = plt.subplots(nrows=4, ncols=2, figsize=(35,35))\n",
    "ax[0][0].scatter(dataset['age'], dataset['charges'])\n",
    "ax[0][0].set_xlabel('Age')\n",
    "ax[0][0].set_ylabel('Charges')\n",
    "\n",
    "ax[0][1].scatter(dataset['sex'], dataset['charges'], color='green')\n",
    "ax[0][1].set_xlabel('Sex')\n",
    "ax[0][1].set_ylabel('Charges')\n",
    "\n",
    "ax[1][0].scatter(dataset['bmi'], dataset['charges'], color='magenta')\n",
    "ax[1][0].set_xlabel('BMI')\n",
    "ax[1][0].set_ylabel('Charges')\n",
    "\n",
    "ax[1][1].scatter(dataset['children'], dataset['charges'], color='orange')\n",
    "ax[1][1].set_xlabel('Children')\n",
    "ax[1][1].set_ylabel('Charges')\n",
    "\n",
    "ax[2][0].scatter(dataset['smoker'], dataset['charges'], color='black')\n",
    "ax[2][0].set_xlabel('Smoker')\n",
    "ax[2][0].set_ylabel('Charges')\n",
    "\n",
    "plt.subplot(4,2,6)\n",
    "dataset.groupby(['sex'])['charges'].sum().plot.bar(color=['green', 'orange'])\n",
    "plt.xlabel('Sex')\n",
    "plt.ylabel('Charges')\n",
    "\n",
    "plt.subplot(4,2,7)\n",
    "dataset.groupby(['smoker'])['charges'].sum().plot.bar(color=['cyan', 'yellow'])\n",
    "plt.xlabel('Smoker')\n",
    "plt.ylabel('Charges')\n",
    "\n",
    "plt.subplot(4,2,8)\n",
    "dataset.groupby(['region'])['charges'].sum().plot.bar(color=['green', 'orange', 'cyan', 'yellow'])\n",
    "plt.xlabel('Regions')\n",
    "plt.ylabel('Charges')\n",
    "\n",
    "plt.show()"
   ]
  },
  {
   "cell_type": "markdown",
   "metadata": {},
   "source": [
    "Checking if there are any missing values present in the dataset "
   ]
  },
  {
   "cell_type": "code",
   "execution_count": 7,
   "metadata": {},
   "outputs": [
    {
     "data": {
      "text/plain": [
       "age         False\n",
       "sex         False\n",
       "bmi         False\n",
       "children    False\n",
       "smoker      False\n",
       "region      False\n",
       "charges     False\n",
       "dtype: bool"
      ]
     },
     "execution_count": 7,
     "metadata": {},
     "output_type": "execute_result"
    }
   ],
   "source": [
    "dataset.isnull().any()"
   ]
  },
  {
   "cell_type": "markdown",
   "metadata": {},
   "source": [
    "As we can see that there are no null values or missing values present in our dataset hence, there is no need to handle the missing values"
   ]
  },
  {
   "cell_type": "markdown",
   "metadata": {},
   "source": [
    "In the given dataset we can see that there are categorical data present so, we need to encode them"
   ]
  },
  {
   "cell_type": "code",
   "execution_count": 8,
   "metadata": {},
   "outputs": [],
   "source": [
    "from sklearn.preprocessing import LabelEncoder"
   ]
  },
  {
   "cell_type": "code",
   "execution_count": 9,
   "metadata": {},
   "outputs": [
    {
     "data": {
      "text/html": [
       "<div>\n",
       "<style scoped>\n",
       "    .dataframe tbody tr th:only-of-type {\n",
       "        vertical-align: middle;\n",
       "    }\n",
       "\n",
       "    .dataframe tbody tr th {\n",
       "        vertical-align: top;\n",
       "    }\n",
       "\n",
       "    .dataframe thead th {\n",
       "        text-align: right;\n",
       "    }\n",
       "</style>\n",
       "<table border=\"1\" class=\"dataframe\">\n",
       "  <thead>\n",
       "    <tr style=\"text-align: right;\">\n",
       "      <th></th>\n",
       "      <th>age</th>\n",
       "      <th>sex</th>\n",
       "      <th>bmi</th>\n",
       "      <th>children</th>\n",
       "      <th>smoker</th>\n",
       "      <th>region</th>\n",
       "      <th>charges</th>\n",
       "    </tr>\n",
       "  </thead>\n",
       "  <tbody>\n",
       "    <tr>\n",
       "      <th>0</th>\n",
       "      <td>19</td>\n",
       "      <td>0</td>\n",
       "      <td>27.900</td>\n",
       "      <td>0</td>\n",
       "      <td>1</td>\n",
       "      <td>southwest</td>\n",
       "      <td>16884.92400</td>\n",
       "    </tr>\n",
       "    <tr>\n",
       "      <th>1</th>\n",
       "      <td>18</td>\n",
       "      <td>1</td>\n",
       "      <td>33.770</td>\n",
       "      <td>1</td>\n",
       "      <td>0</td>\n",
       "      <td>southeast</td>\n",
       "      <td>1725.55230</td>\n",
       "    </tr>\n",
       "    <tr>\n",
       "      <th>2</th>\n",
       "      <td>28</td>\n",
       "      <td>1</td>\n",
       "      <td>33.000</td>\n",
       "      <td>3</td>\n",
       "      <td>0</td>\n",
       "      <td>southeast</td>\n",
       "      <td>4449.46200</td>\n",
       "    </tr>\n",
       "    <tr>\n",
       "      <th>3</th>\n",
       "      <td>33</td>\n",
       "      <td>1</td>\n",
       "      <td>22.705</td>\n",
       "      <td>0</td>\n",
       "      <td>0</td>\n",
       "      <td>northwest</td>\n",
       "      <td>21984.47061</td>\n",
       "    </tr>\n",
       "    <tr>\n",
       "      <th>4</th>\n",
       "      <td>32</td>\n",
       "      <td>1</td>\n",
       "      <td>28.880</td>\n",
       "      <td>0</td>\n",
       "      <td>0</td>\n",
       "      <td>northwest</td>\n",
       "      <td>3866.85520</td>\n",
       "    </tr>\n",
       "    <tr>\n",
       "      <th>...</th>\n",
       "      <td>...</td>\n",
       "      <td>...</td>\n",
       "      <td>...</td>\n",
       "      <td>...</td>\n",
       "      <td>...</td>\n",
       "      <td>...</td>\n",
       "      <td>...</td>\n",
       "    </tr>\n",
       "    <tr>\n",
       "      <th>1333</th>\n",
       "      <td>50</td>\n",
       "      <td>1</td>\n",
       "      <td>30.970</td>\n",
       "      <td>3</td>\n",
       "      <td>0</td>\n",
       "      <td>northwest</td>\n",
       "      <td>10600.54830</td>\n",
       "    </tr>\n",
       "    <tr>\n",
       "      <th>1334</th>\n",
       "      <td>18</td>\n",
       "      <td>0</td>\n",
       "      <td>31.920</td>\n",
       "      <td>0</td>\n",
       "      <td>0</td>\n",
       "      <td>northeast</td>\n",
       "      <td>2205.98080</td>\n",
       "    </tr>\n",
       "    <tr>\n",
       "      <th>1335</th>\n",
       "      <td>18</td>\n",
       "      <td>0</td>\n",
       "      <td>36.850</td>\n",
       "      <td>0</td>\n",
       "      <td>0</td>\n",
       "      <td>southeast</td>\n",
       "      <td>1629.83350</td>\n",
       "    </tr>\n",
       "    <tr>\n",
       "      <th>1336</th>\n",
       "      <td>21</td>\n",
       "      <td>0</td>\n",
       "      <td>25.800</td>\n",
       "      <td>0</td>\n",
       "      <td>0</td>\n",
       "      <td>southwest</td>\n",
       "      <td>2007.94500</td>\n",
       "    </tr>\n",
       "    <tr>\n",
       "      <th>1337</th>\n",
       "      <td>61</td>\n",
       "      <td>0</td>\n",
       "      <td>29.070</td>\n",
       "      <td>0</td>\n",
       "      <td>1</td>\n",
       "      <td>northwest</td>\n",
       "      <td>29141.36030</td>\n",
       "    </tr>\n",
       "  </tbody>\n",
       "</table>\n",
       "<p>1338 rows × 7 columns</p>\n",
       "</div>"
      ],
      "text/plain": [
       "      age  sex     bmi  children  smoker     region      charges\n",
       "0      19    0  27.900         0       1  southwest  16884.92400\n",
       "1      18    1  33.770         1       0  southeast   1725.55230\n",
       "2      28    1  33.000         3       0  southeast   4449.46200\n",
       "3      33    1  22.705         0       0  northwest  21984.47061\n",
       "4      32    1  28.880         0       0  northwest   3866.85520\n",
       "...   ...  ...     ...       ...     ...        ...          ...\n",
       "1333   50    1  30.970         3       0  northwest  10600.54830\n",
       "1334   18    0  31.920         0       0  northeast   2205.98080\n",
       "1335   18    0  36.850         0       0  southeast   1629.83350\n",
       "1336   21    0  25.800         0       0  southwest   2007.94500\n",
       "1337   61    0  29.070         0       1  northwest  29141.36030\n",
       "\n",
       "[1338 rows x 7 columns]"
      ]
     },
     "execution_count": 9,
     "metadata": {},
     "output_type": "execute_result"
    }
   ],
   "source": [
    "lb = LabelEncoder()\n",
    "dataset['sex'] = lb.fit_transform(dataset['sex'])\n",
    "dataset['smoker'] = lb.fit_transform(dataset['smoker'])\n",
    "dataset"
   ]
  },
  {
   "cell_type": "markdown",
   "metadata": {},
   "source": [
    "checking correlation of columns in the given dataset"
   ]
  },
  {
   "cell_type": "code",
   "execution_count": 10,
   "metadata": {},
   "outputs": [
    {
     "data": {
      "text/plain": [
       "<matplotlib.axes._subplots.AxesSubplot at 0x1fd69d4ca08>"
      ]
     },
     "execution_count": 10,
     "metadata": {},
     "output_type": "execute_result"
    },
    {
     "data": {
      "image/png": "[encoded data removed]",
      "text/plain": [
       "<Figure size 432x288 with 2 Axes>"
      ]
     },
     "metadata": {
      "needs_background": "light"
     },
     "output_type": "display_data"
    }
   ],
   "source": [
    "import seaborn as sns\n",
    "sns.heatmap(dataset.corr(), annot=True)"
   ]
  },
  {
   "cell_type": "markdown",
   "metadata": {},
   "source": [
    "from the above Heatmap we can see that columns of sex and children are less correlated with column of charges. Hence, we should not take as independent columns. While if we see the columns of age, bmi, and smoker, they are highly correlated with the column of charges.Also,region will have effect on charges as charges varies from region to region. Therefore, we can consider columns of age,bmi,smoker and region as independent columns "
   ]
  },
  {
   "cell_type": "markdown",
   "metadata": {},
   "source": [
    "Splitting data into independent and dependent variables"
   ]
  },
  {
   "cell_type": "code",
   "execution_count": 11,
   "metadata": {},
   "outputs": [
    {
     "data": {
      "text/plain": [
       "array([[19, 27.9, 1, 'southwest'],\n",
       "       [18, 33.77, 0, 'southeast'],\n",
       "       [28, 33.0, 0, 'southeast'],\n",
       "       ...,\n",
       "       [18, 36.85, 0, 'southeast'],\n",
       "       [21, 25.8, 0, 'southwest'],\n",
       "       [61, 29.07, 1, 'northwest']], dtype=object)"
      ]
     },
     "execution_count": 11,
     "metadata": {},
     "output_type": "execute_result"
    }
   ],
   "source": [
    "x = dataset.iloc[:,[0,2,4,5]].values\n",
    "x"
   ]
  },
  {
   "cell_type": "code",
   "execution_count": 12,
   "metadata": {},
   "outputs": [
    {
     "data": {
      "text/plain": [
       "array([16884.924 ,  1725.5523,  4449.462 , ...,  1629.8335,  2007.945 ,\n",
       "       29141.3603])"
      ]
     },
     "execution_count": 12,
     "metadata": {},
     "output_type": "execute_result"
    }
   ],
   "source": [
    "y = dataset.iloc[:,-1].values\n",
    "y"
   ]
  },
  {
   "cell_type": "markdown",
   "metadata": {},
   "source": [
    "Encoding of Region column"
   ]
  },
  {
   "cell_type": "code",
   "execution_count": 13,
   "metadata": {},
   "outputs": [
    {
     "data": {
      "text/plain": [
       "array([[0.0, 0.0, 0.0, ..., 19, 27.9, 1],\n",
       "       [0.0, 0.0, 1.0, ..., 18, 33.77, 0],\n",
       "       [0.0, 0.0, 1.0, ..., 28, 33.0, 0],\n",
       "       ...,\n",
       "       [0.0, 0.0, 1.0, ..., 18, 36.85, 0],\n",
       "       [0.0, 0.0, 0.0, ..., 21, 25.8, 0],\n",
       "       [0.0, 1.0, 0.0, ..., 61, 29.07, 1]], dtype=object)"
      ]
     },
     "execution_count": 13,
     "metadata": {},
     "output_type": "execute_result"
    }
   ],
   "source": [
    "from sklearn.compose import ColumnTransformer\n",
    "from sklearn.preprocessing import OneHotEncoder\n",
    "ct = ColumnTransformer(transformers=[('encoder', OneHotEncoder(), [(3)])], remainder='passthrough')\n",
    "x = ct.fit_transform(x)\n",
    "x"
   ]
  },
  {
   "cell_type": "markdown",
   "metadata": {},
   "source": [
    "Avoiding Dummy Variable Trap"
   ]
  },
  {
   "cell_type": "code",
   "execution_count": 14,
   "metadata": {},
   "outputs": [
    {
     "data": {
      "text/plain": [
       "array([[0.0, 0.0, 1.0, 19, 27.9, 1],\n",
       "       [0.0, 1.0, 0.0, 18, 33.77, 0],\n",
       "       [0.0, 1.0, 0.0, 28, 33.0, 0],\n",
       "       ...,\n",
       "       [0.0, 1.0, 0.0, 18, 36.85, 0],\n",
       "       [0.0, 0.0, 1.0, 21, 25.8, 0],\n",
       "       [1.0, 0.0, 0.0, 61, 29.07, 1]], dtype=object)"
      ]
     },
     "execution_count": 14,
     "metadata": {},
     "output_type": "execute_result"
    }
   ],
   "source": [
    "x = x[:,1:]\n",
    "x"
   ]
  },
  {
   "cell_type": "markdown",
   "metadata": {},
   "source": [
    "Splitting Dataset into Train and Test"
   ]
  },
  {
   "cell_type": "code",
   "execution_count": 15,
   "metadata": {},
   "outputs": [],
   "source": [
    "from sklearn.model_selection import train_test_split\n",
    "x_train, x_test, y_train, y_test = train_test_split(x,y, test_size=0.2, random_state=0)"
   ]
  },
  {
   "cell_type": "markdown",
   "metadata": {},
   "source": [
    "Feature Scaling"
   ]
  },
  {
   "cell_type": "code",
   "execution_count": 17,
   "metadata": {},
   "outputs": [],
   "source": [
    "from sklearn.preprocessing import StandardScaler\n",
    "sc = StandardScaler()\n",
    "x_train = sc.fit_transform(x_train)\n",
    "x_test = sc.transform(x_test)"
   ]
  },
  {
   "cell_type": "markdown",
   "metadata": {},
   "source": [
    "# Part 2 -  Model Building"
   ]
  },
  {
   "cell_type": "raw",
   "metadata": {},
   "source": [
    "Machine learning gives the computer the ability to learn without being explicitly programmed. For this to happen, a machine needs to be \"trained\" by explicitly feeding it data that has the correct answers attached. Once trained a machine can be given test data that has no answers,the machine will then predict the answers based on the training it received."
   ]
  },
  {
   "cell_type": "code",
   "execution_count": 25,
   "metadata": {},
   "outputs": [
    {
     "data": {
      "text/plain": [
       "array([[-0.55791981, -0.6155209 ,  1.70862925, -0.14853305,  0.54530479,\n",
       "         1.97125461],\n",
       "       [-0.55791981,  1.6246402 , -0.58526447, -1.49780784,  0.59867181,\n",
       "        -0.50729114],\n",
       "       [-0.55791981, -0.6155209 , -0.58526447, -1.14273553,  0.96092064,\n",
       "         1.97125461],\n",
       "       ...,\n",
       "       [-0.55791981,  1.6246402 , -0.58526447,  0.06451033, -0.91339361,\n",
       "        -0.50729114],\n",
       "       [ 1.79237229, -0.6155209 , -0.58526447, -1.42679338,  0.77656186,\n",
       "        -0.50729114],\n",
       "       [-0.55791981, -0.6155209 ,  1.70862925, -0.4325909 , -1.97749955,\n",
       "        -0.50729114]])"
      ]
     },
     "execution_count": 25,
     "metadata": {},
     "output_type": "execute_result"
    }
   ],
   "source": [
    "x_train"
   ]
  },
  {
   "cell_type": "code",
   "execution_count": 26,
   "metadata": {},
   "outputs": [
    {
     "data": {
      "text/plain": [
       "array([40182.246 ,  1137.4697, 38511.6283, ...,  5415.6612,  1646.4297,\n",
       "        4766.022 ])"
      ]
     },
     "execution_count": 26,
     "metadata": {},
     "output_type": "execute_result"
    }
   ],
   "source": [
    "y_train"
   ]
  },
  {
   "cell_type": "code",
   "execution_count": 27,
   "metadata": {},
   "outputs": [
    {
     "data": {
      "text/plain": [
       "array([[-0.55791981, -0.6155209 ,  1.70862925,  0.91668389, -0.08539629,\n",
       "        -0.50729114],\n",
       "       [-0.55791981,  1.6246402 , -0.58526447,  0.56161157, -0.21962242,\n",
       "        -0.50729114],\n",
       "       [ 1.79237229, -0.6155209 , -0.58526447,  0.63262604,  1.59081313,\n",
       "         1.97125461],\n",
       "       ...,\n",
       "       [-0.55791981, -0.6155209 , -0.58526447,  1.2717562 ,  1.54472343,\n",
       "        -0.50729114],\n",
       "       [-0.55791981,  1.6246402 , -0.58526447, -0.64563429,  1.34581001,\n",
       "         1.97125461],\n",
       "       [-0.55791981, -0.6155209 , -0.58526447,  0.49059711, -0.95948331,\n",
       "        -0.50729114]])"
      ]
     },
     "execution_count": 27,
     "metadata": {},
     "output_type": "execute_result"
    }
   ],
   "source": [
    "x_test"
   ]
  },
  {
   "cell_type": "code",
   "execution_count": 28,
   "metadata": {},
   "outputs": [
    {
     "data": {
      "text/plain": [
       "array([ 9724.53    ,  8547.6913  , 45702.02235 , 12950.0712  ,\n",
       "        9644.2525  ,  4500.33925 ,  2198.18985 , 11436.73815 ,\n",
       "        7537.1639  ,  5425.02335 ,  6753.038   , 10493.9458  ,\n",
       "        7337.748   ,  4185.0979  , 18310.742   , 10702.6424  ,\n",
       "       12523.6048  ,  3490.5491  ,  6457.8434  , 33475.81715 ,\n",
       "       23967.38305 , 12643.3778  , 23045.56616 , 23065.4207  ,\n",
       "        1674.6323  ,  4667.60765 ,  3732.6251  ,  7682.67    ,\n",
       "        3756.6216  ,  8413.46305 ,  8059.6791  , 48970.2476  ,\n",
       "       12979.358   , 20630.28351 , 14571.8908  ,  4137.5227  ,\n",
       "        8347.1643  , 51194.55914 , 40003.33225 ,  1880.487   ,\n",
       "        5458.04645 ,  2867.1196  , 20149.3229  , 47496.49445 ,\n",
       "       36149.4835  , 26018.95052 , 19749.38338 ,  6940.90985 ,\n",
       "        4718.20355 , 22192.43711 ,  2899.48935 , 18838.70366 ,\n",
       "       23568.272   , 46255.1125  , 24227.33724 ,  3268.84665 ,\n",
       "        2322.6218  ,  8827.2099  , 14478.33015 , 13112.6048  ,\n",
       "        1253.936   , 46718.16325 , 13919.8229  ,  9630.397   ,\n",
       "       10736.87075 ,  9880.068   , 32548.3405  , 38746.3551  ,\n",
       "        3180.5101  ,  8162.71625 , 13041.921   , 11554.2236  ,\n",
       "       16232.847   , 13887.9685  , 13012.20865 , 13217.0945  ,\n",
       "        7147.105   ,  7731.4271  , 20296.86345 , 47403.88    ,\n",
       "       11658.37915 , 45863.205   ,  2055.3249  ,  7441.053   ,\n",
       "       41034.2214  , 18972.495   ,  3410.324   ,  2699.56835 ,\n",
       "       12333.828   , 36837.467   ,  6334.34355 , 10214.636   ,\n",
       "       17878.90068 ,  8515.7587  ,  4518.82625 ,  5148.5526  ,\n",
       "       42303.69215 , 38998.546   ,  5327.40025 , 10602.385   ,\n",
       "        1824.2854  ,  5377.4578  ,  4349.462   , 37742.5757  ,\n",
       "       32787.45859 ,  3353.4703  , 10577.087   ,  3556.9223  ,\n",
       "       11944.59435 , 52590.82939 , 12475.3513  ,  4266.1658  ,\n",
       "        9249.4952  , 33732.6867  , 48675.5177  ,  7729.64575 ,\n",
       "        1964.78    ,  8444.474   , 12347.172   ,  9301.89355 ,\n",
       "       42124.5153  ,  9991.03765 , 14319.031   ,  5428.7277  ,\n",
       "        7626.993   ,  4906.40965 , 23401.30575 , 21098.55405 ,\n",
       "       48173.361   ,  1917.3184  ,  8219.2039  ,  1725.5523  ,\n",
       "        5976.8311  ,  9361.3268  , 22144.032   , 35491.64    ,\n",
       "       19515.5416  , 10107.2206  , 23244.7902  ,  2789.0574  ,\n",
       "        2261.5688  , 10594.50155 ,  9304.7019  , 10435.06525 ,\n",
       "        4894.7533  , 14313.8463  , 28287.89766 , 14426.07385 ,\n",
       "        1627.28245 , 25517.11363 ,  6555.07035 , 39611.7577  ,\n",
       "        9964.06    ,  1720.3537  ,  2730.10785 ,  6500.2359  ,\n",
       "        2643.2685  ,  1719.4363  , 11085.5868  , 10115.00885 ,\n",
       "        4846.92015 , 12982.8747  , 28923.13692 ,  9391.346   ,\n",
       "        4544.2348  , 17128.42608 , 13844.506   ,  6113.23105 ,\n",
       "        4441.21315 ,  1633.9618  ,  4058.71245 ,  4435.0942  ,\n",
       "        8310.83915 ,  1986.9334  ,  4260.744   ,  4504.6624  ,\n",
       "        4428.88785 ,  6117.4945  , 30184.9367  ,  1708.92575 ,\n",
       "       11187.6567  ,  6796.86325 , 11356.6609  ,  2498.4144  ,\n",
       "       27375.90478 , 28101.33305 ,  2254.7967  ,  2597.779   ,\n",
       "       14692.66935 , 10370.91255 , 41097.16175 ,  3981.9768  ,\n",
       "        5472.449   , 21223.6758  ,  2534.39375 ,  1972.95    ,\n",
       "        6406.4107  ,  6551.7501  ,  4058.1161  ,  4243.59005 ,\n",
       "       11512.405   , 46889.2612  , 12268.63225 , 19199.944   ,\n",
       "        4433.3877  , 42969.8527  , 23241.47453 ,  9140.951   ,\n",
       "        5836.5204  ,  1149.3959  ,  8765.249   , 14043.4767  ,\n",
       "        5312.16985 , 10795.93733 ,  6282.235   ,  1969.614   ,\n",
       "        6746.7425  ,  5354.07465 , 14001.2867  ,  6877.9801  ,\n",
       "        6196.448   ,  7986.47525 ,  8277.523   ,  3206.49135 ,\n",
       "       11848.141   , 14210.53595 , 12265.5069  , 11837.16    ,\n",
       "        6652.5288  ,  2137.6536  ,  1131.5066  ,  8342.90875 ,\n",
       "       12244.531   ,  4561.1885  , 17626.23951 ,  6875.961   ,\n",
       "        9447.3824  , 34254.05335 ,  6067.12675 , 11729.6795  ,\n",
       "        5383.536   , 37465.34375 ,  7371.772   ,  7325.0482  ,\n",
       "        8410.04685 , 10461.9794  ,  3279.86855 ,  7727.2532  ,\n",
       "        2731.9122  ,  6858.4796  , 19521.9682  , 47305.305   ,\n",
       "        3987.926   ,  3238.4357  ,  7323.734819,  1704.5681  ,\n",
       "        7445.918   ,  1629.8335  ,  4877.98105 ,  3561.8889  ,\n",
       "        8605.3615  , 24520.264   , 45710.20785 , 15019.76005 ,\n",
       "        6664.68595 , 20709.02034 , 40932.4295  ,  9500.57305 ])"
      ]
     },
     "execution_count": 28,
     "metadata": {},
     "output_type": "execute_result"
    }
   ],
   "source": [
    "y_test"
   ]
  },
  {
   "cell_type": "raw",
   "metadata": {},
   "source": [
    "fitting the data"
   ]
  },
  {
   "cell_type": "code",
   "execution_count": 29,
   "metadata": {},
   "outputs": [
    {
     "data": {
      "text/plain": [
       "LinearRegression(copy_X=True, fit_intercept=True, n_jobs=None, normalize=False)"
      ]
     },
     "execution_count": 29,
     "metadata": {},
     "output_type": "execute_result"
    }
   ],
   "source": [
    "from sklearn.linear_model import LinearRegression\n",
    "lr=LinearRegression()\n",
    "lr.fit(x_train,y_train)"
   ]
  },
  {
   "cell_type": "code",
   "execution_count": 23,
   "metadata": {},
   "outputs": [
    {
     "data": {
      "text/plain": [
       "array([11292.79732547,  9487.94403773, 37845.83643247, 16784.71261612,\n",
       "        7362.65784046,  4387.35915763,  1961.95122534, 13552.88802248,\n",
       "        8142.33637271,  6640.20659403,  3585.51586981,  9865.17112739,\n",
       "        8889.06324885,  4198.00908727, 28400.0924434 ,  9846.90885328,\n",
       "       11781.97272899,  6093.36475918,  7821.59905758, 27598.18521428,\n",
       "       33289.07987086, 13966.03538756, 12199.62952629, 32617.19906196,\n",
       "        4577.77365447,  9264.09080546,  1473.22296346,  8922.70483745,\n",
       "        4169.14790472, 10029.35092955,  8140.81191487, 40180.82913429,\n",
       "       16281.92478779, 14457.36960284, 25189.60643513,  5577.13613929,\n",
       "       12203.15680733, 30895.35446598, 33169.16946291,  4152.92988552,\n",
       "        4385.8346998 ,  4400.25275655, 31015.59213673, 39185.31086683,\n",
       "       28243.51439217,  4627.18379789,  9735.49483855,  7850.62387342,\n",
       "        3556.49105397, 10226.458029  ,  6127.72517744,  2511.84197586,\n",
       "       33175.91382749, 37677.78154443, 16535.7804525 ,  7599.30568245,\n",
       "        6158.15422086,  9929.31859042,  7164.80337314, 11781.97272899,\n",
       "        2344.05842064, 38155.90254274, 14076.39530608, 11490.14035465,\n",
       "       12780.0056092 , 14176.8192083 , 26271.06172077, 31411.97428995,\n",
       "         311.04150102,  8878.50773967, 12920.00948123, 11563.42620576,\n",
       "       25776.40761977, 16106.57034257, 11685.75153445, 13123.66990882,\n",
       "        7090.64759737,  9166.11722709, 30215.27330674, 39303.90420848,\n",
       "       12517.31792575, 37795.93538916,  4690.569032  ,  9502.00396316,\n",
       "       34925.53846565, 28437.26584761,  8760.22148536,  5361.0684781 ,\n",
       "       12172.02147634, 31035.62966325,  9199.94334243, 11958.99472709,\n",
       "        8820.39416671,  8456.35672262,  8877.68156947,  7307.59318316,\n",
       "       36552.15202579, 32895.36343295,  7217.53376126, 15726.05190539,\n",
       "        4425.08322365,  8849.48292384,  5852.77335922, 32031.3755015 ,\n",
       "       32173.35932816,  2377.44921846,  9581.40018394,  7123.59925348,\n",
       "       15081.69198896, 37866.4127927 ,  9284.79504449, 10152.5051064 ,\n",
       "       10251.58036339, 27439.34101455, 40003.4159321 ,  8037.66671878,\n",
       "         337.84392659,  9565.71646386, 15413.1564503 ,  8681.49197709,\n",
       "       34342.10093254,  7714.70665818, 17570.10195501,  8784.5092906 ,\n",
       "        8334.60712855,  2472.14595516, 32965.99192768, 31112.63950148,\n",
       "       40263.50220052,  6038.42798446,  8869.01318781,  3554.46316173,\n",
       "        7631.15148797,  9089.23979844, 32316.18454128, 30539.65813696,\n",
       "       30261.05880364,  8287.11264706, 32480.95458013,  3342.71007953,\n",
       "        4114.7663226 , 11625.41521602, 12747.81164743, 13352.75940293,\n",
       "        5451.19184129, 16065.29392648, 14971.8458351 ,  1931.46589295,\n",
       "         427.04942751, 10883.08207642,  7399.24100419, 32328.58723652,\n",
       "       12424.9078758 ,  2291.77099479,  6456.91095197,  7845.70269506,\n",
       "        4433.97917989,  2068.94296533, 10506.64575766, 11695.6605104 ,\n",
       "        6381.26611387, 16890.60685687, 12295.1524332 , 14244.34285359,\n",
       "        3587.04032764,  5966.59429096, 23629.91792844,  6698.95451333,\n",
       "        5480.15271583,  5597.05343177,  6322.51819457,  4744.74357779,\n",
       "        9581.84314621,  5795.05099413,  4930.86856846,  5308.11851912,\n",
       "        3237.27819668,  5575.67562275, 37286.79893492,  1897.80376231,\n",
       "       12237.10280153,  8111.02487012, 14286.01047377,  5819.77376549,\n",
       "        4740.17020428, 36995.84866455,  4813.46441433,  2079.19174617,\n",
       "       15723.99278943, 12266.06367607, 35657.89868802,  4301.25397537,\n",
       "        5747.79698074, 31721.74853294,  6644.77996754,  2644.10367986,\n",
       "        8009.40413186,  9167.107382  ,  7556.98317389,  5806.28957469,\n",
       "       13192.39074536, 39008.85892616, 13357.39671773, 28117.84595778,\n",
       "        6353.06746825, 35588.23945475,  3303.71234646, 12364.01636478,\n",
       "        8609.15484918,  6674.05557415, 11406.23469786, 15046.56934177,\n",
       "        4269.03714881,  4954.17457772,  8006.02795338,  1833.81993637,\n",
       "        6983.80695236,  4388.12138655, 12037.94344722,  3775.67157213,\n",
       "        9321.32227445,  6307.97190383,  9830.58313833,  2790.53264225,\n",
       "       13806.8559213 , 17391.82682811, 14538.60500973, 11139.67193231,\n",
       "        4400.14506081,  2634.18216561,  2328.9089997 , 13551.29962335,\n",
       "       14526.18977618,  3661.85899553,  3719.35343462,  9153.92992333,\n",
       "        9989.59096756, 28749.79063308,  7655.83085629, 10049.927286  ,\n",
       "        6833.40321208, 29014.82894458, 10808.25923295,  7940.68329532,\n",
       "        9389.40075713, 12300.48803563,  2536.99170582, 10896.86613824,\n",
       "        1926.82857815,  7044.14327079, 28453.81949234, 38431.32472639,\n",
       "        5991.75202844,  8167.74489718,  2924.16317073,   839.37062238,\n",
       "       10683.66775575,  4594.3272992 ,  3629.84920531,  2291.66329905,\n",
       "        5930.97238874, 33552.52178328, 38791.97762928, 14378.42052372,\n",
       "        8300.41834352, 16654.06706202, 32056.2059686 ,  8611.94497034])"
      ]
     },
     "execution_count": 23,
     "metadata": {},
     "output_type": "execute_result"
    }
   ],
   "source": [
    "yp=lr.predict(x_test)\n",
    "yp"
   ]
  },
  {
   "cell_type": "raw",
   "metadata": {},
   "source": [
    "evaluation:Finding the accuracy score for the model gives how accurate the model is"
   ]
  },
  {
   "cell_type": "code",
   "execution_count": 24,
   "metadata": {},
   "outputs": [
    {
     "data": {
      "text/plain": [
       "0.7967243535739388"
      ]
     },
     "execution_count": 24,
     "metadata": {},
     "output_type": "execute_result"
    }
   ],
   "source": [
    "from sklearn.metrics import r2_score\n",
    "r2_score(y_test,yp)"
   ]
  },
  {
   "cell_type": "code",
   "execution_count": null,
   "metadata": {},
   "outputs": [],
   "source": []
  }
 ],
 "metadata": {
  "kernelspec": {
   "display_name": "Python 3",
   "language": "python",
   "name": "python3"
  },
  "language_info": {
   "codemirror_mode": {
    "name": "ipython",
    "version": 3
   },
   "file_extension": ".py",
   "mimetype": "text/x-python",
   "name": "python",
   "nbconvert_exporter": "python",
   "pygments_lexer": "ipython3",
   "version": "3.7.6"
  },
  "varInspector": {
   "cols": {
    "lenName": 16,
    "lenType": 16,
    "lenVar": 40
   },
   "kernels_config": {
    "python": {
     "delete_cmd_postfix": "",
     "delete_cmd_prefix": "del ",
     "library": "var_list.py",
     "varRefreshCmd": "print(var_dic_list())"
    },
    "r": {
     "delete_cmd_postfix": ") ",
     "delete_cmd_prefix": "rm(",
     "library": "var_list.r",
     "varRefreshCmd": "cat(var_dic_list()) "
    }
   },
   "types_to_exclude": [
    "module",
    "function",
    "builtin_function_or_method",
    "instance",
    "_Feature"
   ],
   "window_display": false
  }
 },
 "nbformat": 4,
 "nbformat_minor": 4
}
